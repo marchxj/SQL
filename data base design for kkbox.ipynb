{
 "cells": [
  {
   "cell_type": "code",
   "execution_count": 1,
   "metadata": {},
   "outputs": [],
   "source": [
    "%load_ext sql\n",
    "%sql mysql+pymysql://root:@fe512_mysql/fe512db\n",
    "%sql USE fe512db; \n",
    "%sql SELECT DATABASE();"
   ]
  },
  {
   "cell_type": "code",
   "execution_count": null,
   "metadata": {},
   "outputs": [],
   "source": [
    "%%sql\n",
    "SHOW TABLES;"
   ]
  },
  {
   "cell_type": "code",
   "execution_count": null,
   "metadata": {},
   "outputs": [],
   "source": [
    "%%sql\n",
    "CREATE TABLE transactions(\n",
    "  `msno` VARCHAR(44), \n",
    "  `payment_method_id` INT ,\n",
    "  `payment_plan_days` INT,\n",
    "  `plan_list_price` INT ,\n",
    "  `actual_amount_paid` INT,\n",
    "  `is_auto_renew` INT,\n",
    "  `transaction_date` INT,\n",
    "  `membership_expire_date` INT,\n",
    "  `is_cancel` INT\n",
    ");"
   ]
  },
  {
   "cell_type": "code",
   "execution_count": null,
   "metadata": {},
   "outputs": [],
   "source": [
    "%%sql\n",
    "LOAD DATA INFILE '/home/data/transactions.csv'  INTO TABLE transactions\n",
    "FIELDS TERMINATED BY ',' \n",
    "ENCLOSED BY '\"' \n",
    "LINES TERMINATED BY '\\n'\n",
    "IGNORE 1 LINES (msno,payment_method_id,payment_plan_days,plan_list_price,actual_amount_paid,is_auto_renew,transaction_date,membership_expire_date,is_cancel);            "
   ]
  },
  {
   "cell_type": "code",
   "execution_count": null,
   "metadata": {},
   "outputs": [],
   "source": [
    "%%sql\n",
    "CREATE TABLE members(\n",
    "  `msno` VARCHAR(44) PRIMARY KEY, \n",
    "  `city` INT ,\n",
    "  `bday` INT,\n",
    "  `gender` TEXT ,\n",
    "  `registered_via` INT,\n",
    "  `registrition_init_time` INT\n",
    ");"
   ]
  },
  {
   "cell_type": "code",
   "execution_count": null,
   "metadata": {},
   "outputs": [],
   "source": [
    "%%sql\n",
    "LOAD DATA INFILE '/home/data/members.csv'  INTO TABLE members\n",
    "FIELDS TERMINATED BY ',' \n",
    "ENCLOSED BY '\"' \n",
    "LINES TERMINATED BY '\\n'\n",
    "IGNORE 1 LINES (msno,city,bday,gender,registered_via,registrition_init_time);"
   ]
  },
  {
   "cell_type": "code",
   "execution_count": null,
   "metadata": {},
   "outputs": [],
   "source": [
    "%%sql\n",
    "CREATE TABLE churn(\n",
    "  `msno` VARCHAR(44) PRIMARY KEY, \n",
    "  `is_churn` INT \n",
    ");"
   ]
  },
  {
   "cell_type": "code",
   "execution_count": null,
   "metadata": {},
   "outputs": [],
   "source": [
    "%%sql\n",
    "LOAD DATA INFILE '/home/data/churn.csv'  INTO TABLE churn\n",
    "FIELDS TERMINATED BY ',' \n",
    "ENCLOSED BY '\"' \n",
    "LINES TERMINATED BY '\\n'\n",
    "IGNORE 1 LINES (msno,is_churn);               "
   ]
  },
  {
   "cell_type": "code",
   "execution_count": null,
   "metadata": {},
   "outputs": [],
   "source": [
    "%%sql\n",
    "CREATE TABLE userlog(\n",
    "  `msno` VARCHAR(44), \n",
    "  `date` INT ,\n",
    "  `num_unq` INT,\n",
    "  `total_secs` DOUBLE \n",
    ");"
   ]
  },
  {
   "cell_type": "code",
   "execution_count": null,
   "metadata": {},
   "outputs": [],
   "source": [
    "%%sql\n",
    "LOAD DATA INFILE '/home/data/behavior.csv'  INTO TABLE userlog\n",
    "FIELDS TERMINATED BY ',' \n",
    "ENCLOSED BY '\"' \n",
    "LINES TERMINATED BY '\\n'\n",
    "IGNORE 1 LINES (msno,date,num_unq,@total_secs)\n",
    "set\n",
    "total_secs=NULLIF(@total_secs,'');"
   ]
  },
  {
   "cell_type": "code",
   "execution_count": null,
   "metadata": {},
   "outputs": [],
   "source": [
    "%%sql\n",
    "ALTER TABLE userlog ADD PRIMARY KEY (msno,date);"
   ]
  },
  {
   "cell_type": "markdown",
   "metadata": {},
   "source": [
    "### Data manipulation"
   ]
  },
  {
   "cell_type": "code",
   "execution_count": null,
   "metadata": {},
   "outputs": [],
   "source": [
    "%%sql\n",
    "DESCRIBE members;"
   ]
  },
  {
   "cell_type": "code",
   "execution_count": null,
   "metadata": {},
   "outputs": [],
   "source": [
    "%%sql\n",
    "SELECT COUNT(*) \n",
    "FROM members \n",
    "WHERE gender = '';"
   ]
  },
  {
   "cell_type": "code",
   "execution_count": null,
   "metadata": {},
   "outputs": [],
   "source": [
    "%%sql\n",
    "SELECT COUNT(*) \n",
    "FROM members \n",
    "WHERE bday <= 0 or bday >= 100;"
   ]
  },
  {
   "cell_type": "markdown",
   "metadata": {},
   "source": [
    "#### The total number of records in Members Table is 6769473."
   ]
  },
  {
   "cell_type": "code",
   "execution_count": null,
   "metadata": {},
   "outputs": [],
   "source": [
    "%%sql\n",
    "CREATE TABLE memberchurn AS(SELECT churn.msno, is_churn, members.bday, members.gender\n",
    "FROM churn JOIN members\n",
    "ON churn.msno=members.msno\n",
    "WHERE members.bday>0 and members.bday<100 and members.gender!='')\n",
    "LIMIT 10;"
   ]
  },
  {
   "cell_type": "markdown",
   "metadata": {},
   "source": [
    "Q1: Is there a relationship between information integrity and churn?"
   ]
  },
  {
   "cell_type": "code",
   "execution_count": null,
   "metadata": {},
   "outputs": [],
   "source": [
    "%%sql\n",
    "SELECT COUNT(*)\n",
    "FROM churn\n",
    "WHERE is_churn=0;"
   ]
  },
  {
   "cell_type": "code",
   "execution_count": null,
   "metadata": {},
   "outputs": [],
   "source": [
    "%%sql\n",
    "SELECT COUNT(*)\n",
    "FROM memberschurn\n",
    "WHERE is_churn=0;"
   ]
  },
  {
   "cell_type": "code",
   "execution_count": null,
   "metadata": {},
   "outputs": [],
   "source": [
    "%%sql\n",
    "SELECT COUNT(*)\n",
    "FROM churn\n",
    "WHERE is_churn=1;"
   ]
  },
  {
   "cell_type": "code",
   "execution_count": null,
   "metadata": {},
   "outputs": [],
   "source": [
    "%%sql\n",
    "SELECT COUNT(*)\n",
    "FROM memberschurn\n",
    "WHERE is_churn=1;"
   ]
  },
  {
   "cell_type": "markdown",
   "metadata": {},
   "source": [
    "We can calculate that among all churn users, 36.96% users with completed information. Therefore, we may conclude that there is not significant relation between the information integrity and churn probability."
   ]
  },
  {
   "cell_type": "markdown",
   "metadata": {},
   "source": [
    "## Userlog"
   ]
  },
  {
   "cell_type": "code",
   "execution_count": null,
   "metadata": {},
   "outputs": [],
   "source": [
    "%%sql\n",
    "SELECT max(date), min(date) \n",
    "FROM userlog;"
   ]
  },
  {
   "cell_type": "code",
   "execution_count": null,
   "metadata": {},
   "outputs": [],
   "source": [
    "%%sql\n",
    "DELETE FROM userlog \n",
    "WHERE msno NOT IN (SELECT msno FROM churn);"
   ]
  },
  {
   "cell_type": "markdown",
   "metadata": {},
   "source": [
    "Q2: Is there a relationship between user's listening behavior and churn?"
   ]
  },
  {
   "cell_type": "code",
   "execution_count": null,
   "metadata": {},
   "outputs": [],
   "source": [
    "%%sql\n",
    "CREATE TABLE user_1_log\n",
    "(SELECT msno, count(date) as days,sum(num_unq) as total_unq, avg(total_secs) as avg_secs\n",
    "FROM userlog\n",
    "GROUP BY msno);"
   ]
  },
  {
   "cell_type": "code",
   "execution_count": null,
   "metadata": {},
   "outputs": [],
   "source": [
    "%%sql\n",
    "ALTER TABLE user_1_log \n",
    "ADD avg_min double;"
   ]
  },
  {
   "cell_type": "code",
   "execution_count": null,
   "metadata": {},
   "outputs": [],
   "source": [
    "%%sql\n",
    "ALTER TABLE user_1_log \n",
    "ADD avg_unq double;"
   ]
  },
  {
   "cell_type": "code",
   "execution_count": null,
   "metadata": {},
   "outputs": [],
   "source": [
    "%%sql\n",
    "UPDATE user_1_log\n",
    "SET avg_unq = total_unq/days,avg_min = avg_secs/60;"
   ]
  },
  {
   "cell_type": "code",
   "execution_count": null,
   "metadata": {},
   "outputs": [],
   "source": [
    "%%sql\n",
    "CREATE TABLE userlog_churn(\n",
    "SELECT churn.msno,days,avg_unq,avg_min,is_churn \n",
    "FROM user_1_log join churn on \n",
    "    user_1_log.msno = churn.msno \n",
    "    ORDER BY avg_min DESC);"
   ]
  },
  {
   "cell_type": "markdown",
   "metadata": {},
   "source": [
    "We can see that most of users who are not churn spend more time on listening to music in a month. We may assume that there exsit a relationship between users' behavior and churn probability."
   ]
  },
  {
   "cell_type": "markdown",
   "metadata": {},
   "source": [
    "## Transaction"
   ]
  },
  {
   "cell_type": "code",
   "execution_count": null,
   "metadata": {},
   "outputs": [],
   "source": [
    "%%sql\n",
    "DELETE FROM transactions \n",
    "WHERE msno NOT IN (select msno FROM churn);"
   ]
  },
  {
   "cell_type": "markdown",
   "metadata": {},
   "source": [
    "Q3: Is there a relationship between the number of transactions and churn?"
   ]
  },
  {
   "cell_type": "code",
   "execution_count": null,
   "metadata": {},
   "outputs": [],
   "source": [
    "%%sql\n",
    "SELECT COUNT(*) \n",
    "FROM transactions;"
   ]
  },
  {
   "cell_type": "markdown",
   "metadata": {},
   "source": [
    "#### The original count of record in Transaction is 21547746."
   ]
  },
  {
   "cell_type": "code",
   "execution_count": null,
   "metadata": {},
   "outputs": [],
   "source": [
    "%%sql\n",
    "CREATE TABLE transaction_count(\n",
    "    SELECT msno,COUNT(*) AS trans_count FROM transactions GROUP BY msno);"
   ]
  },
  {
   "cell_type": "code",
   "execution_count": null,
   "metadata": {},
   "outputs": [],
   "source": [
    "%%sql\n",
    "CREATE TABLE churn_vs_count(\n",
    "    SELECT churn.msno, is_churn, trans_count \n",
    "    FROM churn JOIN transaction_count ON churn.msno = transaction_count.msno \n",
    "    ORDER BY trans_count DESC); "
   ]
  },
  {
   "cell_type": "code",
   "execution_count": null,
   "metadata": {},
   "outputs": [],
   "source": [
    "%%sql\n",
    "SELECT msno FROM churn_vs_count \n",
    "WHERE is_churn=1;"
   ]
  },
  {
   "cell_type": "code",
   "execution_count": null,
   "metadata": {},
   "outputs": [],
   "source": [
    "%%sql\n",
    "CREATE TABLE churn_percent_trancount(\n",
    "    SELECT trans_count, sum(is_churn) AS sum_churn, count(msno) AS sum_cust, (sum(is_churn)/count(msno)) AS churn_percent \n",
    "    FROM churn_vs_count \n",
    "    GROUP BY trans_count); "
   ]
  },
  {
   "cell_type": "code",
   "execution_count": null,
   "metadata": {},
   "outputs": [],
   "source": [
    "%%sql\n",
    "SELECT * FROM churn_percent_trancount INTO OUTFILE '/home/data/churn_percent_trancount.csv'\n",
    "FIELDS \n",
    "    terminated by ',' \n",
    "    optionally enclosed by '\"' \n",
    "    escaped by '\"'  \n",
    "    lines terminated by '\\r\\n';"
   ]
  },
  {
   "cell_type": "markdown",
   "metadata": {},
   "source": [
    "### get a smaller set of data, get the information of the earliest day user enrolled in."
   ]
  },
  {
   "cell_type": "code",
   "execution_count": null,
   "metadata": {},
   "outputs": [],
   "source": [
    "%%sql\n",
    "CREATE TABLE trans_expire(\n",
    "    SELECT a.msno,a.plan_list_price,a.is_auto_renew,a.membership_expire_date \n",
    "    FROM trans10000 a \n",
    "    WHERE membership_expire_date = (\n",
    "    SELECT max(membership_expire_date) FROM trans10000 WHERE msno = a.msno) \n",
    "    ORDER BY a.msno\n",
    "); "
   ]
  },
  {
   "cell_type": "markdown",
   "metadata": {},
   "source": [
    "### get a smaller set of data, get the information of the latest day user churn."
   ]
  },
  {
   "cell_type": "code",
   "execution_count": null,
   "metadata": {},
   "outputs": [],
   "source": [
    "%%sql\n",
    "CREATE TABLE trans_date(\n",
    "    SELECT a.msno,a.plan_list_price, a.is_auto_renew,a.transaction_date \n",
    "    FROM trans10000 a where transaction_date = (\n",
    "    SELECT min(transaction_date) FROM trans10000 WHERE msno = a.msno) \n",
    "    ORDER BY a.msno\n",
    "); "
   ]
  },
  {
   "cell_type": "code",
   "execution_count": null,
   "metadata": {},
   "outputs": [],
   "source": [
    "%%sql\n",
    "CREATE TABLE user_duration(\n",
    "    SELECT trans_date.msno,\n",
    "    trans_date.transaction_date AS start_date, \n",
    "    trans_expire.membership_expire_date AS end_date\n",
    "    FROM trans_expire JOIN trans_date \n",
    "    ON trans_expire.msno = trans_date.msno\n",
    ");"
   ]
  }
 ],
 "metadata": {
  "kernelspec": {
   "display_name": "Python 3",
   "language": "python",
   "name": "python3"
  },
  "language_info": {
   "codemirror_mode": {
    "name": "ipython",
    "version": 3
   },
   "file_extension": ".py",
   "mimetype": "text/x-python",
   "name": "python",
   "nbconvert_exporter": "python",
   "pygments_lexer": "ipython3",
   "version": "3.6.4"
  }
 },
 "nbformat": 4,
 "nbformat_minor": 2
}
